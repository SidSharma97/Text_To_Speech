{
 "cells": [
  {
   "cell_type": "code",
   "execution_count": 1,
   "metadata": {},
   "outputs": [],
   "source": [
    "from gtts import gTTS\n",
    "import docx "
   ]
  },
  {
   "cell_type": "code",
   "execution_count": 2,
   "metadata": {},
   "outputs": [],
   "source": [
    "def getDocContent(filename):\n",
    "    doc = docx.Document(filename)\n",
    "    fullText = \"\"\n",
    "    for para in doc.paragraphs:\n",
    "        fullText += para.text\n",
    "    return fullText\n",
    "\n",
    "sid = getDocContent(\"E:\\Test Document.docx\")\n",
    "\n",
    "langg = 'en'\n",
    "\n",
    "output = gTTS(text = sid, lang = langg , slow = False)\n",
    "output.save(\"testsample.mp3\")\n",
    "\n",
    "#os.system(\"start textsample.mp3\")"
   ]
  },
  {
   "cell_type": "code",
   "execution_count": null,
   "metadata": {},
   "outputs": [],
   "source": []
  }
 ],
 "metadata": {
  "kernelspec": {
   "display_name": "Python 3",
   "language": "python",
   "name": "python3"
  },
  "language_info": {
   "codemirror_mode": {
    "name": "ipython",
    "version": 3
   },
   "file_extension": ".py",
   "mimetype": "text/x-python",
   "name": "python",
   "nbconvert_exporter": "python",
   "pygments_lexer": "ipython3",
   "version": "3.7.3"
  }
 },
 "nbformat": 4,
 "nbformat_minor": 4
}
